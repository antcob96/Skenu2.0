{
 "cells": [
  {
   "cell_type": "markdown",
   "metadata": {},
   "source": [
    "# Parametric Curves"
   ]
  },
  {
   "cell_type": "code",
   "execution_count": null,
   "metadata": {},
   "outputs": [],
   "source": [
    "# Importing numpy and matplotlib\n",
    "import numpy as np \n",
    "import matplotlib.pyplot as plt"
   ]
  },
  {
   "cell_type": "code",
   "execution_count": null,
   "metadata": {},
   "outputs": [],
   "source": [
    "plt.style.use('fivethirtyeight')"
   ]
  },
  {
   "cell_type": "code",
   "execution_count": null,
   "metadata": {},
   "outputs": [],
   "source": [
    "filenamea = 'parametric_curves_a.dat'\n",
    "filenameb = 'parametric_curves_b.dat'\n",
    "filenamec = 'parametric_curves_c.dat'\n",
    "filenamed = 'parametric_curves_d.dat'\n",
    "filenamee = 'parametric_curves_e.dat'\n",
    "filenamef = 'parametric_curves_f.dat'\n",
    "\n",
    "\n",
    "all_dataa = np.loadtxt(filenamea,skiprows=0)\n",
    "all_datab = np.loadtxt(filenameb,skiprows=0)\n",
    "all_datac = np.loadtxt(filenamec,skiprows=0)\n",
    "all_datad = np.loadtxt(filenamed,skiprows=0)\n",
    "all_datae = np.loadtxt(filenamee,skiprows=0)\n",
    "all_dataf = np.loadtxt(filenamef,skiprows=0)\n",
    "\n",
    "# We transpose the array in order to be able to extract each column individually\n",
    "all_dataa = all_dataa.transpose()\n",
    "all_datab = all_datab.transpose()\n",
    "all_datac = all_datac.transpose()\n",
    "all_datad = all_datad.transpose()\n",
    "all_datae = all_datae.transpose()\n",
    "all_dataf = all_dataf.transpose()\n",
    "\n",
    "\n",
    "xa = all_dataa[0]\n",
    "ya = all_dataa[1]\n",
    "\n",
    "xb = all_datab[0]\n",
    "yb = all_datab[1]\n",
    "\n",
    "xc = all_datac[0]\n",
    "yc = all_datac[1]\n",
    "\n",
    "xd = all_datad[0]\n",
    "yd = all_datad[1]\n",
    "\n",
    "xe = all_datae[0]\n",
    "ye = all_datae[1]\n",
    "\n",
    "xf = all_dataf[0]\n",
    "yf = all_dataf[1]"
   ]
  },
  {
   "cell_type": "code",
   "execution_count": null,
   "metadata": {
    "scrolled": true
   },
   "outputs": [],
   "source": [
    "f = plt.figure()\n",
    "plt.plot(xa,ya, label = '$\\omega$ = 3')\n",
    "plt.plot(xb,yb, label = '$\\omega$ = $2^{1/2}$')\n",
    "plt.plot(xc,yc, label = '$\\omega$ = 2/3')\n",
    "plt.plot(xd,yd, label = '$\\omega$ = $\\pi$')\n",
    "plt.plot(xe,ye, label = '$\\omega$ = 5/3')\n",
    "plt.plot(xf,yf, label = '$\\omega$ = 1/2(1+$5^{1/2}$)')\n",
    "\n",
    "plt.legend(loc='center left', bbox_to_anchor=(1,0.5))\n",
    "plt.xlabel('x(t)')\n",
    "plt.ylabel('y(t)')\n",
    "\n",
    "\n",
    "plt.show()\n",
    "f.savefig(\"parametric.pdf\", format = 'pdf', bbox_inches = \"tight\")"
   ]
  },
  {
   "cell_type": "code",
   "execution_count": null,
   "metadata": {},
   "outputs": [],
   "source": []
  }
 ],
 "metadata": {
  "kernelspec": {
   "display_name": "Python 3",
   "language": "python",
   "name": "python3"
  },
  "language_info": {
   "codemirror_mode": {
    "name": "ipython",
    "version": 3
   },
   "file_extension": ".py",
   "mimetype": "text/x-python",
   "name": "python",
   "nbconvert_exporter": "python",
   "pygments_lexer": "ipython3",
   "version": "3.7.3"
  }
 },
 "nbformat": 4,
 "nbformat_minor": 2
}
