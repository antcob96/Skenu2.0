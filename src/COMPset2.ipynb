{
 "cells": [
  {
   "cell_type": "markdown",
   "metadata": {},
   "source": [
    "# Computational set # 2"
   ]
  },
  {
   "cell_type": "code",
   "execution_count": null,
   "metadata": {},
   "outputs": [],
   "source": [
    "import numpy as np\n",
    "import matplotlib.pyplot as plt\n",
    "import matplotlib.cm as cm\n",
    "import matplotlib.cbook as cbook\n",
    "import math as mth\n",
    "import scipy.signal as sy\n",
    "from matplotlib.path import Path\n",
    "from matplotlib.patches import PathPatch\n",
    "\n",
    "from mpl_toolkits import mplot3d\n",
    "\n",
    "import pandas as pd\n",
    "from scipy.integrate import odeint\n",
    "from mpl_toolkits.mplot3d import Axes3D\n",
    "from matplotlib.ticker import LinearLocator, FormatStrFormatter"
   ]
  },
  {
   "cell_type": "markdown",
   "metadata": {},
   "source": [
    "## 11.6"
   ]
  },
  {
   "cell_type": "code",
   "execution_count": null,
   "metadata": {},
   "outputs": [],
   "source": [
    "# Define a function to solve the ODE system\n",
    "def lorenz(initial, t):\n",
    "    x_n = initial[0]\n",
    "    y_n=initial[1]\n",
    "    z_n=initial[2]\n",
    "    dvecdt = [sigma*(y_n-x_n),r*x_n-y_n-x_n*z_n, x_n*y_n-b*z_n ]\n",
    "    return dvecdt"
   ]
  },
  {
   "cell_type": "code",
   "execution_count": null,
   "metadata": {},
   "outputs": [],
   "source": [
    "# Parameters and Initial conditions\n",
    "N = 10000000\n",
    "sigma = 10\n",
    "b = 8/3\n",
    "\n",
    "initial = [2,5,5]\n",
    "time = np.linspace(0, 20, N)\n"
   ]
  },
  {
   "cell_type": "code",
   "execution_count": null,
   "metadata": {},
   "outputs": [],
   "source": [
    "r=0\n",
    "weather = odeint(lorenz, initial, time)\n",
    "x_r0 = weather[:,0]\n",
    "y_r0 = weather[:,1]\n",
    "z_r0 = weather[:,2]"
   ]
  },
  {
   "cell_type": "code",
   "execution_count": null,
   "metadata": {},
   "outputs": [],
   "source": [
    "fig = plt.figure(figsize=(10,10),dpi=300)\n",
    "ax = plt.axes(projection='3d')\n",
    "ax.plot3D(x_r0,y_r0,z_r0,'k')\n",
    "ax.view_init(10,45)\n",
    "ax.set_xlabel('x')\n",
    "ax.set_ylabel('y')\n",
    "ax.set_zlabel('z');\n",
    "plt.title('Lorenz model at r = 0', fontsize = 20)\n",
    "fig.savefig(\"Lorenz_r0.pdf\", format = 'pdf', bbox_inches = \"tight\")"
   ]
  },
  {
   "cell_type": "code",
   "execution_count": null,
   "metadata": {},
   "outputs": [],
   "source": [
    "r=10\n",
    "weather_10 = odeint(lorenz, initial, time)\n",
    "x_r10 = weather_10 [:,0]\n",
    "y_r10 = weather_10 [:,1]\n",
    "z_r10 = weather_10 [:,2]"
   ]
  },
  {
   "cell_type": "code",
   "execution_count": null,
   "metadata": {},
   "outputs": [],
   "source": [
    "fig = plt.figure(figsize=(10,10),dpi=300)\n",
    "ax = plt.axes(projection='3d')\n",
    "ax.plot3D(x_r10,y_r10,z_r10,'k')\n",
    "ax.view_init(10,75)\n",
    "ax.set_xlabel('x')\n",
    "ax.set_ylabel('y')\n",
    "ax.set_zlabel('z');\n",
    "plt.title('Lorenz model at r = 10', fontsize = 20)\n",
    "fig.savefig(\"Lorenz_r10.pdf\", format = 'pdf', bbox_inches = \"tight\")"
   ]
  },
  {
   "cell_type": "code",
   "execution_count": null,
   "metadata": {},
   "outputs": [],
   "source": [
    "r=20\n",
    "weather_20 = odeint(lorenz, initial, time)\n",
    "x_r20 = weather_20 [:,0]\n",
    "y_r20 = weather_20 [:,1]\n",
    "z_r20 = weather_20 [:,2]"
   ]
  },
  {
   "cell_type": "code",
   "execution_count": null,
   "metadata": {
    "scrolled": false
   },
   "outputs": [],
   "source": [
    "fig = plt.figure(figsize=(10,10),dpi=300)\n",
    "ax = plt.axes(projection='3d')\n",
    "ax.plot3D(x_r20,y_r20,z_r20,'k')\n",
    "#ax.view_init(15,-45)\n",
    "ax.set_xlabel('x')\n",
    "ax.set_ylabel('y')\n",
    "ax.set_zlabel('z');\n",
    "plt.title('Lorenz model at r = 20', fontsize = 20)\n",
    "fig.savefig(\"Lorenz_r20.pdf\", format = 'pdf', bbox_inches = \"tight\")"
   ]
  },
  {
   "cell_type": "code",
   "execution_count": null,
   "metadata": {},
   "outputs": [],
   "source": [
    "r=28\n",
    "weather_28 = odeint(lorenz, initial, time)\n",
    "x_r28 = weather_28 [:,0]\n",
    "y_r28 = weather_28 [:,1]\n",
    "z_r28 = weather_28 [:,2]"
   ]
  },
  {
   "cell_type": "code",
   "execution_count": null,
   "metadata": {},
   "outputs": [],
   "source": [
    "fig = plt.figure(figsize=(10,10),dpi=300)\n",
    "ax = plt.axes(projection='3d')\n",
    "ax.plot3D(x_r28,y_r28,z_r28,'k')\n",
    "#ax.view_init(20,70)\n",
    "ax.set_xlabel('x')\n",
    "ax.set_ylabel('y')\n",
    "ax.set_zlabel('z');\n",
    "plt.title('Lorenz model at r = 28', fontsize = 20)\n",
    "plt.show()\n",
    "fig.savefig(\"Lorenz_r28.pdf\", format = 'pdf', bbox_inches = \"tight\")"
   ]
  },
  {
   "cell_type": "code",
   "execution_count": null,
   "metadata": {},
   "outputs": [],
   "source": [
    "f = plt.figure()\n",
    "plt.plot(time,x_r28,label = 'x(t)')\n",
    "plt.xlabel('time',fontsize = 14)\n",
    "plt.ylabel('x(t)',fontsize = 14)\n",
    "plt.title('x(t) vesus time',fontsize = 15)\n",
    "plt.xlim(0,20)\n",
    "plt.axvline(x=7, linestyle = '--', color = 'k')\n",
    "plt.legend(loc='lower left')\n",
    "plt.show()\n",
    "f.savefig(\"Lorenz_r10.pdf\", format = 'pdf', bbox_inches = \"tight\")"
   ]
  },
  {
   "cell_type": "markdown",
   "metadata": {},
   "source": [
    "## 11.7"
   ]
  },
  {
   "cell_type": "code",
   "execution_count": null,
   "metadata": {},
   "outputs": [],
   "source": [
    "# Define a function to solve the ODE system\n",
    "def rossler(initial, t):\n",
    "    x_n = initial[0]\n",
    "    y_n=initial[1]\n",
    "    z_n=initial[2]\n",
    "    dvecdt = [-(y_n+z_n),x_n + a*y_n, b+z_n*(x_n-c)]\n",
    "    return dvecdt"
   ]
  },
  {
   "cell_type": "code",
   "execution_count": null,
   "metadata": {},
   "outputs": [],
   "source": [
    "# Parameters and initial conditions for rosseler orbit\n",
    "N = 1000000\n",
    "a = 0.2\n",
    "b = 0.2\n",
    "time = np.linspace(0,100,N)"
   ]
  },
  {
   "cell_type": "code",
   "execution_count": null,
   "metadata": {},
   "outputs": [],
   "source": [
    "initial = [-1,0,0]\n",
    "N_p = 1000\n",
    "c = 0\n",
    "i=0\n",
    "cc = []\n",
    "c = np.linspace(5,7,N_p)\n",
    "for c in p:\n",
    "    OERos_c = odeint(rossler, initial, time)\n",
    "    x_c = OERos_c[:,0]\n",
    "    peak = sy.argrelextrema(x_c,np.greater)\n",
    "    x_vary = x_c[peak]\n",
    "    cc[0:peak] = c_x\n",
    "    plt.plot(c,x_vary)\n",
    "plt.show()"
   ]
  },
  {
   "cell_type": "code",
   "execution_count": null,
   "metadata": {},
   "outputs": [],
   "source": [
    "initial = [1,0,0]\n",
    "c = 5.70\n",
    "\n",
    "OERos_56 = odeint(rossler, initial, time)\n",
    "x_c56 = OERos_56 [:,0]\n",
    "y_c56 = OERos_56 [:,1]\n",
    "z_c56 = OERos_56 [:,2]\n",
    "fig = plt.figure(figsize=(10,10),dpi=300)\n",
    "ax = plt.axes(projection='3d')\n",
    "ax.plot3D(x_c56,y_c56,z_c56,'k')\n",
    "#ax.view_init(20,70)\n",
    "ax.set_xlabel('x')\n",
    "ax.set_ylabel('y')\n",
    "ax.set_zlabel('z');\n",
    "plt.title('Rossler model at c = 5.6', fontsize = 20)\n",
    "plt.show()"
   ]
  },
  {
   "cell_type": "code",
   "execution_count": null,
   "metadata": {},
   "outputs": [],
   "source": []
  },
  {
   "cell_type": "code",
   "execution_count": null,
   "metadata": {},
   "outputs": [],
   "source": []
  },
  {
   "cell_type": "code",
   "execution_count": null,
   "metadata": {},
   "outputs": [],
   "source": []
  },
  {
   "cell_type": "code",
   "execution_count": null,
   "metadata": {},
   "outputs": [],
   "source": []
  },
  {
   "cell_type": "code",
   "execution_count": null,
   "metadata": {},
   "outputs": [],
   "source": []
  },
  {
   "cell_type": "markdown",
   "metadata": {},
   "source": [
    "## 11.8"
   ]
  },
  {
   "cell_type": "code",
   "execution_count": null,
   "metadata": {},
   "outputs": [],
   "source": [
    "# Define a function to solve the ODE system\n",
    "def duffing(initial, t):\n",
    "    x = initial[0]\n",
    "    y = initial[1]\n",
    "    dvecdt = [y, F*np.cos(w*t)-2*gamma*y-(alpha*x+beta*x^3)]\n",
    "    return dvecdt"
   ]
  },
  {
   "cell_type": "code",
   "execution_count": null,
   "metadata": {},
   "outputs": [],
   "source": [
    "# Parameters and x_0\n",
    "alpha = 1\n",
    "beta = 0.2\n",
    "gamma = 0\n",
    "F = 4\n",
    "w = 1\n",
    "initial = [1,0]"
   ]
  },
  {
   "cell_type": "code",
   "execution_count": null,
   "metadata": {},
   "outputs": [],
   "source": [
    "dufosc = ode(duffing,initial,time)\n",
    "x_duf = dufosc[0]\n",
    "y_duf = dufosc[1]"
   ]
  },
  {
   "cell_type": "code",
   "execution_count": null,
   "metadata": {},
   "outputs": [],
   "source": []
  },
  {
   "cell_type": "markdown",
   "metadata": {},
   "source": [
    "## 11.12"
   ]
  },
  {
   "cell_type": "code",
   "execution_count": null,
   "metadata": {},
   "outputs": [],
   "source": []
  }
 ],
 "metadata": {
  "kernelspec": {
   "display_name": "Python 3",
   "language": "python",
   "name": "python3"
  },
  "language_info": {
   "codemirror_mode": {
    "name": "ipython",
    "version": 3
   },
   "file_extension": ".py",
   "mimetype": "text/x-python",
   "name": "python",
   "nbconvert_exporter": "python",
   "pygments_lexer": "ipython3",
   "version": "3.7.3"
  }
 },
 "nbformat": 4,
 "nbformat_minor": 2
}
